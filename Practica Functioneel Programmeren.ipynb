{
 "cells": [
  {
   "cell_type": "markdown",
   "metadata": {},
   "source": [
    "# Practica Functioneel Programmeren\n",
    "Dit bestand bevat alle practica voor de module Functioneel Programmeren van het vak Advanced Technical Programming. De module beslaat vier colleges, waarvan de eerste drie practicumopdrachten geassocieerd hebben. Dit Jupyter Notebook bevat alle practica; probeer deze na iedere les te maken en in te leveren voor feedback.  Natuurlijk kun je ook vast vooruit kijken.\n",
    "\n",
    "Een Jupyter Notebook bestaat uit cells met code of toelichting. Sommige code-cells hoeven enkel uitgevoerd te worden om functies beschikbaar te maken, anderen moet je zelf in vullen (opdrachten staan duidelijk met kopjes gemarkeerd, je moet dan zelf de delen met `TODO` invullen). Je kunt de code per cel uitvoeren door de cel te selecteren en \"run cell\" te kiezen.\n",
    "De cel direct hieronder laadt de nodige modules in en definiëert enkele typevariabelen die we later nodig hebben. Als je code niet naar verwachting werkt kan het zijn dat je deze cell moet runnen, of een van de andere cels vóór de cel met error. Let erop dat als je de Jupyter-server afsluit en later verder gaat moet je deze cells opnieuw runnen."
   ]
  },
  {
   "cell_type": "code",
   "execution_count": 1,
   "metadata": {},
   "outputs": [],
   "source": [
    "from functools import reduce\n",
    "from typing import List, Callable, TypeVar, Tuple, Union, Generator\n",
    "from itertools import takewhile\n",
    "import re\n",
    "\n",
    "A = TypeVar('A') \n",
    "B = TypeVar('B') \n",
    "C = TypeVar('C')"
   ]
  },
  {
   "cell_type": "markdown",
   "metadata": {},
   "source": [
    "***\n",
    "## College 3\n",
    "De opdrachten hieronder dienen gemaakt te worden na afloop van college 3."
   ]
  },
  {
   "cell_type": "markdown",
   "metadata": {},
   "source": [
    "### 3.1 — Functies"
   ]
  },
  {
   "cell_type": "markdown",
   "metadata": {},
   "source": [
    "#### Opdracht 3.1.1 — To function or not to function [PORTFOLIO]\n",
    "Hieronder staat een aantal functies gedefiniëerd. Maar let op, want het zijn niet allemaal daadwerkelijk functies zoals we die bij functioneel willen zien. Welke subroutines zijn functies, en welke niet? Waarom? Maak onderscheid tussen subroutines die alleen intern state gebruiken (en dus verder referentiëel transparant zijn) en functies die daadwerkelijk globale state aanpassen of IO gebruiken.\n",
    "\n",
    "NB: houdt er rekening mee dat puurheid erfelijk is. Een functie die een niet-pure functie gebruikt is zelf ook niet puur. Voor deze opdracht mag je ervan uitgaan dat alle built-in functies die geen IO doen of side-effects hebben puur zijn (dat is niet het geval, maar het is voor elk van deze functies mogelijk een pure functie te schrijven)."
   ]
  },
  {
   "cell_type": "code",
   "execution_count": 2,
   "metadata": {},
   "outputs": [],
   "source": [
    "# Geen pure functie. Er is hier sprake van een interne state, de enumerate actie.\n",
    "\n",
    "def wave(string):\n",
    "    output = \"\"\n",
    "    for index, letter in enumerate(string):\n",
    "        if index % 2 == 0:\n",
    "            output += letter.upper()\n",
    "        else:\n",
    "            output += letter.lower()\n",
    "    return output\n",
    "\n",
    "# Geen pure functie. Er is hier sprake van een interne state, de while loop.\n",
    "\n",
    "def wait_for_password():\n",
    "    password = input(\"Say the magic word! \")\n",
    "    while password != \"secret\":\n",
    "        password = input(\"Say the magic word! \")\n",
    "        \n",
    "# Geen pure functie. De globale state wordt hier aangepast.\n",
    "    \n",
    "def set_width(new_width):\n",
    "    global width \n",
    "    width = new_width\n",
    "    \n",
    "# Wel een pure functie. De globale state wordt niet aangepast. Ook is er niet sprake van een interne state.\n",
    "    \n",
    "def make_sense(temp_in_fahrenheit):\n",
    "    return ((temp_in_fahrenheit+459.67) * 5/9)\n",
    "\n",
    "# Geen pure functie. De takewhile aanroep is een iteratieve functie.\n",
    "def latin(word):\n",
    "    vowels = \"aeiouAEIOU\"\n",
    "    if word[0] in vowels:\n",
    "        return word + \"ay\"\n",
    "    else:\n",
    "        cons_cluster = \"\".join(takewhile(lambda x: x not in vowels, word))\n",
    "        return(word[len(cons_cluster):] + cons_cluster + \"ay\")\n",
    "  \n",
    "# Geen pure functie. Deze functie roept een niet pure functie aan, namelijk latin(word)\n",
    "def latinise(string):\n",
    "    return re.sub(r'[a-zA-Z]+', lambda m: latin(m.group(0)), string)\n",
    "    \n",
    "# Geen pure functie. Deze functie roept een niet pure functie aan, namelijk latinise(string)\n",
    "def say_it_in_latin(string):\n",
    "    print(latinise(string))"
   ]
  },
  {
   "cell_type": "markdown",
   "metadata": {},
   "source": [
    "### 3.2 — Recursie\n",
    "Tijdens het college hebben we gezien hoe je met recursie een loop kan simuleren zonder mutable state. Vertaal de \"functies\" hieronder naar recursieve functies."
   ]
  },
  {
   "cell_type": "markdown",
   "metadata": {},
   "source": [
    "#### Opdracht 3.2.1 — `sum_of_squares`"
   ]
  },
  {
   "cell_type": "code",
   "execution_count": 7,
   "metadata": {},
   "outputs": [
    {
     "name": "stdout",
     "output_type": "stream",
     "text": [
      "Result: 14\n",
      "Result 2: 14\n",
      "Sum of Squares: True\n"
     ]
    }
   ],
   "source": [
    "def sum_of_squares(values: List[float]) -> float:\n",
    "    result = 0\n",
    "    for x in values:\n",
    "        result += x ** 2\n",
    "    return result\n",
    "\n",
    "def better_sum_of_squares(values: List[float]) -> float:\n",
    "    if len(values) == 0:\n",
    "        return 0\n",
    "    else:\n",
    "        return (values[-1] ** 2) + better_sum_of_squares(values[:-1])\n",
    "    \n",
    "    return None\n",
    "\n",
    "print(\"Result:\", sum_of_squares([1, 2, 3]))\n",
    "print(\"Result 2:\", better_sum_of_squares([1, 2, 3]))\n",
    "print(\"Sum of Squares:\", (sum_of_squares([1,2,3]) == better_sum_of_squares([1,2,3])))"
   ]
  },
  {
   "cell_type": "markdown",
   "metadata": {},
   "source": [
    "#### Opdracht 3.2.2 — `repeat`"
   ]
  },
  {
   "cell_type": "code",
   "execution_count": 12,
   "metadata": {
    "scrolled": true
   },
   "outputs": [
    {
     "name": "stdout",
     "output_type": "stream",
     "text": [
      "Result: ['X', 'X', 'X']\n",
      "Result 2: ['X', 'X', 'X']\n",
      "repeat: True\n"
     ]
    }
   ],
   "source": [
    "def repeat(item: A, times: int) -> List[A]:\n",
    "    result = []\n",
    "    for _ in range(0, times):\n",
    "        result = result + [item]\n",
    "    return result\n",
    "\n",
    "def better_repeat(item: A, times: int) -> List[A]:\n",
    "    if times <= 0:\n",
    "        return []\n",
    "    else:\n",
    "        return [item] + better_repeat(item, times - 1)\n",
    "\n",
    "print(\"Result:\", repeat(\"X\", 3))\n",
    "print(\"Result 2:\", better_repeat(\"X\", 3))\n",
    "\n",
    "print(\"repeat:\", (repeat(\"X\", 3) == better_repeat(\"X\", 3)))"
   ]
  },
  {
   "cell_type": "markdown",
   "metadata": {},
   "source": [
    "#### Opdracht 3.2.3 — `reverse`"
   ]
  },
  {
   "cell_type": "code",
   "execution_count": 14,
   "metadata": {},
   "outputs": [
    {
     "name": "stdout",
     "output_type": "stream",
     "text": [
      "Result: [5, 4, 3, 2, 1]\n",
      "Result 2: [5, 4, 3, 2, 1]\n",
      "reverse: True\n"
     ]
    }
   ],
   "source": [
    "def reverse(list: List[A]) -> List[A]:\n",
    "    result = []\n",
    "    for item in list:\n",
    "        result = [item] + result\n",
    "    return result\n",
    "\n",
    "def better_reverse(list: List[A]) -> List[A]:\n",
    "    if len(list) == 0:\n",
    "        return []\n",
    "    else:\n",
    "        return [list[-1]] + better_reverse(list[:-1])\n",
    "\n",
    "print(\"Result:\", reverse([1,2,3,4,5]))\n",
    "print(\"Result 2:\", better_reverse([1,2,3,4,5]))\n",
    "\n",
    "\n",
    "print(\"reverse:\", (reverse([1,2,3,4,5]) == better_reverse([1,2,3,4,5])))"
   ]
  },
  {
   "cell_type": "markdown",
   "metadata": {},
   "source": [
    "#### Opdracht 3.2.4 — Tail recursion\n",
    "Hieronder staat de recursieve functies voor de Fibonacci-getallen, zoals deze in de reader is gedefiniëerd. Maak een versie van deze functie met tail recursie."
   ]
  },
  {
   "cell_type": "code",
   "execution_count": 15,
   "metadata": {},
   "outputs": [
    {
     "name": "stdout",
     "output_type": "stream",
     "text": [
      "fib: False\n"
     ]
    }
   ],
   "source": [
    "def fib_rec(n):\n",
    "    if n == 0:\n",
    "        return 0\n",
    "    elif n == 1:\n",
    "        return 1\n",
    "    else:\n",
    "        return fib_rec(n-1) + fib_rec(n-2)\n",
    "                \n",
    "def fib_tail(n, running_total = 0):\n",
    "    #TODO\n",
    "    return None\n",
    "                \n",
    "print(\"fib:\", (fib_rec(13) == fib_tail(13)))"
   ]
  },
  {
   "cell_type": "markdown",
   "metadata": {},
   "source": [
    "### 3.3 — Anonieme functies\n",
    "Zoals in imperatief programmeren een variabele een waarde (een string, een floating-point getal, etc.) kan bevatten, en deze variabelen gebruikt kunnen worden als argumenten en return values, kan dit bij functioneel programmeren ook met functies. Zo kan de functie $\\lambda x. x+1$ toegekend worden aan de variabele `succ`. Op deze manier verschilt een lambda-functie niet veel van een subroutine zoals je die gewend bent: `succ_lambda` en `succ_func` zijn in het voorbeeld hieronder equivalent:"
   ]
  },
  {
   "cell_type": "code",
   "execution_count": 16,
   "metadata": {},
   "outputs": [
    {
     "name": "stdout",
     "output_type": "stream",
     "text": [
      "42\n",
      "42\n"
     ]
    }
   ],
   "source": [
    "def succ_func(x: int) -> int: # niet anoniem\n",
    "    return x+1\n",
    "\n",
    "succ_lambda = lambda x: x+1 # anoniem en vervolgens gebonden\n",
    "\n",
    "print(succ_func(41))\n",
    "print(succ_lambda(41))"
   ]
  },
  {
   "cell_type": "markdown",
   "metadata": {},
   "source": [
    "#### Opdracht 3.3.1 — Functies in lijsten\n",
    "Maak een lijst van tenminste vier anonieme functies die een geheel getal in een ander geheel getal omzetten. \n",
    "Maak vervolgens een functie die elke functie uit de lijst toepast op een getal (natuurlijk met recursie in plaats van een loop), zodat het resultaat een lijst met getallen is. De functie neemt twee argumenten: de lijst van functies en een getal om elke functie op toe te passen."
   ]
  },
  {
   "cell_type": "code",
   "execution_count": 19,
   "metadata": {},
   "outputs": [
    {
     "name": "stdout",
     "output_type": "stream",
     "text": [
      "[84, 1764, 40, 21.0]\n"
     ]
    }
   ],
   "source": [
    "my_functions = [lambda x: x * 2, lambda x: x * x, lambda x: x ^ 2, lambda x: x / 2] #TODO\n",
    "\n",
    "def apply_everything(functions: List[Callable[[int], int]], integer: int) -> int:\n",
    "    if len(functions) == 0:\n",
    "        return []\n",
    "    else:\n",
    "        return [functions[0](integer)] + apply_everything(functions[1:], integer)\n",
    "\n",
    "print(apply_everything(my_functions, 42))"
   ]
  },
  {
   "cell_type": "markdown",
   "metadata": {},
   "source": [
    "#### Opdracht 3.3.2 — Functies filteren [PORTFOLIO]\n",
    "Maak een tweede recursieve functie, die wederom een getal en een lijst van functies neemt. De functie kijkt voor elke functie uit de lijst kijkt wat het resultaat is, en levert een nieuwe functie-lijst op met enkel die functies waar het resultaat even was."
   ]
  },
  {
   "cell_type": "code",
   "execution_count": 36,
   "metadata": {},
   "outputs": [
    {
     "name": "stdout",
     "output_type": "stream",
     "text": [
      "[<function <lambda> at 0x000002AF1875E730>, <function <lambda> at 0x000002AF1875E7B8>]\n",
      "[48, 49, 94, 141]\n",
      "[49, 141]\n"
     ]
    }
   ],
   "source": [
    "my_functions = [lambda x: x + 1, lambda x: x + 2, lambda x: x * 2, lambda x: x * 3]\n",
    "\n",
    "def filter_even_on_input(functions: List[Callable[[int], int]], input: int) \\\n",
    "                         -> List[Callable[[int], int]]:\n",
    "    if len(functions) == 0:\n",
    "        return []\n",
    "    else:        \n",
    "        return ([functions[0]] if functions[0](input) % 2 else []) + filter_even_on_input(functions[1:], input)\n",
    "\n",
    "filtered_functions = filter_even_on_input(my_functions, 47)\n",
    "print(filtered_functions)\n",
    "print(apply_everything(my_functions, 47))\n",
    "print(apply_everything(filtered_functions, 47)) # should only be evens"
   ]
  },
  {
   "cell_type": "markdown",
   "metadata": {},
   "source": [
    "***\n",
    "## College 4\n",
    "De opdrachten hieronder dienen gemaakt te worden na afloop van college 4."
   ]
  },
  {
   "cell_type": "markdown",
   "metadata": {},
   "source": [
    "### 4.1 — Hogere-orde functies\n",
    "Vorig college hebben we kennis gemaakt met functies als first-class citizens. Vandaag gaan we zien wat ons dit aan expressiviteit op levert. Specifiek het feit dat een functie een parameter kan zijn voor een andere functie. Een functie die een functie als argument heeft noemen we een hogere-orde functie. Voorbeelden zijn `map` die een functie toepast op elk item in een lijst en `reduce` die recursief een lijst samenvoegt. Hieronder passen we bijvoorbeeld de `succ_lambda` toe op ieder element in een lijst:"
   ]
  },
  {
   "cell_type": "code",
   "execution_count": null,
   "metadata": {},
   "outputs": [],
   "source": [
    "list(map(succ_lambda, [1,2,3]))"
   ]
  },
  {
   "cell_type": "markdown",
   "metadata": {},
   "source": [
    "Het is nu niet nodig de functie aan een variabele toe te kennen (tenzij je de functie vaker nodig hebt natuurlijk); de volgende code doet hetzelfde, maar gebruikt de lambda direct als argument van map:"
   ]
  },
  {
   "cell_type": "code",
   "execution_count": null,
   "metadata": {},
   "outputs": [],
   "source": [
    "list(map(lambda x: x+1, [1,2,3]))"
   ]
  },
  {
   "cell_type": "markdown",
   "metadata": {},
   "source": [
    "#### Opdracht 4.1.1 — `reduce` met lambda\n",
    "Gebruik nu de functie `reduce` en een lambda $\\lambda x y . x + 2y$ op de lijst `[1,2,4]`. "
   ]
  },
  {
   "cell_type": "code",
   "execution_count": null,
   "metadata": {},
   "outputs": [],
   "source": [
    "#TODO"
   ]
  },
  {
   "cell_type": "markdown",
   "metadata": {},
   "source": [
    "#### Opdracht 4.1.2 — `fac`\n",
    "Gebruik vervolgens `reduce`, een lambda en `range` om de faculteit van een input getal te geven. Je antwoord moet in de vorm van een lambda toegekend worden aan de variabele `fac`. Hieronder staat code die je zelf aan moet vullen, met een regel om je lambda te testen."
   ]
  },
  {
   "cell_type": "code",
   "execution_count": null,
   "metadata": {},
   "outputs": [],
   "source": [
    "#TODO"
   ]
  },
  {
   "cell_type": "markdown",
   "metadata": {},
   "source": [
    "#### Opdracht 4.1.3 — `foldr` met `reduce` [PORTFOLIO]\n",
    "Nu gaan we de functie `reduce` (of zoals we hem zijn tegengekomen: `foldl1`) gebruiken om een `foldr` te definiëren:"
   ]
  },
  {
   "cell_type": "code",
   "execution_count": null,
   "metadata": {},
   "outputs": [],
   "source": [
    "def foldr(f: Callable[[A,B], B], init: B, list: List[A]) -> B:\n",
    "    # TODO\n",
    "    return None\n",
    "\n",
    "print(foldr(lambda x, y: x-y, 0, [1,2,3])) # -> 2"
   ]
  },
  {
   "cell_type": "markdown",
   "metadata": {},
   "source": [
    "#### Opdracht 4.1.4 — `zip` [PORTFOLIO]\n",
    "Tijdens het college hebben we gezien dat `zipWith` uit te drukken is in `zip`. Andersom kan natuurlijk ook: druk `zip` uit met behulp van `zipWith`."
   ]
  },
  {
   "cell_type": "code",
   "execution_count": null,
   "metadata": {},
   "outputs": [],
   "source": [
    "def zip_with(f : Callable[[A, B], C], xs : List[A], ys : List[B]) -> List[C]:\n",
    "    if len(xs) == 0 or len(ys) == 0:\n",
    "        return []\n",
    "    else:\n",
    "        x, *xrest = xs\n",
    "        y, *yrest = ys\n",
    "        return [f(x,y)] + zip_with(f, xrest, yrest)\n",
    "    \n",
    "def zip(xs : List[A], ys : List[B]) -> List[Tuple[A,B]]:\n",
    "    #TODO\n",
    "    return None\n",
    "\n",
    "print(zip([1,2],[3,4])) # --> [(1, 3), (2, 4)]\n",
    "print(zip([1,2],[3])) # --> [(1, 3)]\n",
    "print(zip([1,2],[])) # --> []"
   ]
  },
  {
   "cell_type": "markdown",
   "metadata": {
    "collapsed": true
   },
   "source": [
    "***\n",
    "## College 5\n",
    "De opdrachten hieronder dienen gemaakt te worden na afloop van college 5."
   ]
  },
  {
   "cell_type": "markdown",
   "metadata": {},
   "source": [
    "### 5.1 — Recursieve Datatypes\n",
    "In de slides hebben we een recursieve definitie van de natuurlijke getallen gezien, de zogenaamde Peano nummers. Hieronder zie je een voorbeeld-implementatie in Python:"
   ]
  },
  {
   "cell_type": "code",
   "execution_count": null,
   "metadata": {},
   "outputs": [],
   "source": [
    "class Peano: # Python staat niet toe dat we Peano als type gebruiken voordat de klasse gedefinieerd is.\n",
    "    def phantom(): # Daarom definieren we hem twee keer. De tweede keer bestaat Peano reeds en kunnen\n",
    "        return None # we deze als type gebruiken.\n",
    "    \n",
    "class Peano:\n",
    "    def __init__(self, x: Union[Peano,None]) -> Peano:\n",
    "        self.val = x\n",
    "    @classmethod\n",
    "    def succ(cls, x: Union[Peano,None]) -> Peano:\n",
    "        return Peano(x)\n",
    "    @classmethod\n",
    "    def zero(cls) -> Peano:\n",
    "        return Peano(None)\n",
    "    def __int__(self):\n",
    "        if self.val == None:\n",
    "            return 0\n",
    "        else:\n",
    "            return 1 + int(self.val)\n",
    "    def __str__(self):\n",
    "        if self.val == None:\n",
    "            return \"Z\"\n",
    "        else:\n",
    "            return \"S(\" + str(self.val) + \")\"\n",
    "\n",
    "peano_zero = Peano.zero()\n",
    "peano_one = Peano.succ(peano_zero) # Peano(Peano.zero)\n",
    "peano_two = Peano.succ(peano_one)  # Peano(Peano(Peano.zero))\n",
    "\n",
    "print(peano_zero)\n",
    "print(peano_one)\n",
    "print(peano_two)\n",
    "\n",
    "print(int(peano_zero))\n",
    "print(int(peano_one))\n",
    "print(int(peano_two))"
   ]
  },
  {
   "cell_type": "markdown",
   "metadata": {},
   "source": [
    "#### Opdracht 5.1.1 — Natuurlijke getallen\n",
    "Er zijn echter meerdere recursieve definities te bedenken; een daarvan gaan jullie zelf in Python definiëren. Deze ziet er als volgt uit:\n",
    "\n",
    "- $0$ is een natuurlijk getal\n",
    "- Als $n$ een natuurlijk getal is, dan is $2n$ een natuurlijk getal\n",
    "- Als $n$ een natuurlijk getal is, dan is $2n+1$ een natuurlijk getal\n",
    "\n",
    "Ook met deze definitie zijn alle natuurlijke getallen te definiëren. Maar, _don't take my word for it_, en check het zelf: Definiëer een datatype voor de natuurlijke getallen zoals hierboven beschreven. Defineer variabelen `one`, `two`...`twenty` in deze notatie. Schrijf ook overal de type-annotaties bij!\n",
    "\n",
    "Wat valt je op? Is er een formule te verzinnen om gegeven een getal te bepalen hoeveel constructors genest moeten worden? Is er een snelle manier om, zeg, 6561 in deze notatie om te zetten?  \n",
    "  \n",
    "*Bonus:* wat moeten we aanpassen om $0$ als waarde te verbieden?"
   ]
  },
  {
   "cell_type": "code",
   "execution_count": null,
   "metadata": {},
   "outputs": [],
   "source": [
    "class Number:\n",
    "    def phantom():\n",
    "        return None # Hier hoef je niets aan te doen\n",
    "    \n",
    "class Number:\n",
    "    def __init__(self):\n",
    "        None #TODO\n",
    "    @classmethod\n",
    "    def d(cls, v): # d = Double\n",
    "        None #TODO\n",
    "    @classmethod\n",
    "    def p(cls, v): # p = double Plus one\n",
    "        None #TODO\n",
    "    @classmethod\n",
    "    def z(cls): # z = Zero\n",
    "        None #TODO\n",
    "    def __int__(self): # waarde weergeven als int\n",
    "        None #TODO\n",
    "    def __str__(self): # waarde weergeven als string van de vorm P(D(P(P(Z))))\n",
    "        None #TODO\n",
    "\n",
    "z = Number.z()\n",
    "def d(v: Number) -> Number:\n",
    "    return Number.d(v)\n",
    "def p(v: Number) -> Number:\n",
    "    return Number.p(v)\n",
    "\n",
    "zero = z                      # 0\n",
    "one = p(z)                    # 1\n",
    "two = None #TODO\n",
    "three = None #TODO\n",
    "four = None #TODO\n",
    "five = None #TODO\n",
    "six = None #TODO\n",
    "seven = None #TODO\n",
    "eight = None #TODO\n",
    "nine = None #TODO\n",
    "ten = None #TODO\n",
    "eleven = None #TODO\n",
    "twelve = None #TODO\n",
    "thirteen = None #TODO\n",
    "fourteen = None #TODO\n",
    "fifteen = None #TODO\n",
    "sixteen = None #TODO\n",
    "seventeen = None #TODO\n",
    "eighteen = None #TODO\n",
    "nineteen = None #TODO\n",
    "twenty = None #TODO\n",
    "\n",
    "\"\"\" # Zodra alles is ingevuld kun je deze map gebruiken om alle getallen te printen. Let op! Om deze map te laten\n",
    "    # werken moeten er geen None elementen in de lijst meer zitten en moet de functie int() voor alle elementen\n",
    "    # gedefinieerd zijn (alles moet dus een Number zijn, en __int__(self) moet voor Number geimplementeerd zijn.\n",
    "    # Tot die tijd krijg je een error, dus kun je de map beter tussen tripple quotes laten staan...\n",
    "list(map(lambda num: print(int(num), num), [zero, one, two, three, four, five, six, seven, eight, nine, ten, \n",
    "                                            eleven, twelve, thirteen, fourteen, fifteen, sixteen, seventeen, \n",
    "                                            eighteen, nineteen, twenty]))\n",
    "\"\"\""
   ]
  },
  {
   "cell_type": "markdown",
   "metadata": {},
   "source": [
    "### 5.2 — Functionele Datastructuren\n",
    "Hieronder zien we een iets meer uitgebreid voorbeeld van een functionele datastructuur. Functies die de datastructuur aanpassen hebben de nieuwe structuur als return value, en het origineel blijft ongewijzigd. \n",
    "\n",
    "#### Opdracht 5.2.1 — Poor man's Git [PORTFOLIO]\n",
    "De datastructuur in deze opdracht geeft een elementaire boomstructuur (specifiek, een Rose Tree) waarin een revisie-geschiedenis bewaard wordt. De positie binnen de boom (de versie die \"checked out\" is) bevindt zich altijd in de root van de boom en kan dus snel opgevraagd worden. Het deel van de boom boven de root wordt in een `thread` variabele opgeslagen. Bij een `descend(hash)` wordt de node met `hash` de nieuwe root, en komt de oude root in de thread van de nieuwe root te staan. Bij een `ascend()` wordt deze van de thread afgehaald en als nieuwe root teruggegeven. We willen elk element in de boom slechts één keer opslaan; bij een `descend(hash)` is de nieuwe root niet ook nog steeds het kind van de oude root (die nu in de `thread` zit).\n",
    "\n",
    "<img src=\"zipper.png\" />\n",
    "\n",
    "Een intuitieve manier om naar `descend(hash)` te kijken is alsof de hele boom aan de nieuwe root wordt opgetild. Alles wat zich boven de root bevond komt er nu onder te hangen.\n",
    "\n",
    "Vul de code aan waar `#TODO` staat en beantwoord de volgende vragen:\n",
    "\n",
    " - Wat zijn de sommen en producten in het type History?\n",
    " - Ascend en Descend worden genegeerd als ze onmogelijk zijn (een ascend vanuit de root node levert de root node op). Het nadeel van deze aanpak is dat ascend(descend(x,_)) == descend(ascend(x,_)) == x niet op gaat. Beschrijf een aanpak om dit wel zo te maken. \n",
    " - Wat zou een alternatieve manier zijn om met behulp van een som-type met falende ascends/descends om te gaan? Zou de bovenstaande gelijkheid met deze aanpak wel op gaan?\n",
    " \n",
    "Tip: schrijf een `__str__()` functie voor de klassen, zodat je kan zien wat er gebeurt..."
   ]
  },
  {
   "cell_type": "code",
   "execution_count": null,
   "metadata": {},
   "outputs": [],
   "source": [
    "class Rev:\n",
    "    \"\"\"Phantom class om Rev als type te kunnen gebruiken.\"\"\"\n",
    "    def phantom():\n",
    "        return None\n",
    "    \n",
    "class History:\n",
    "    \"\"\"Phantom class om History als type te kunnen gebruiken.\"\"\"\n",
    "    def phantom():\n",
    "        return None\n",
    "    \n",
    "class Rev:\n",
    "    \"\"\"Klasse/datatype voor een revisie met description (commit message) en hash (voor nu gewoon een meegegeven int).\"\"\"\n",
    "    def __init__(self, desc: str, hash: int) -> Rev:\n",
    "        \"\"\"Constructor\"\"\"\n",
    "        self.__desc = desc\n",
    "        self.__hash = hash\n",
    "        \n",
    "    def desc(self) -> str:\n",
    "        \"\"\"Getter voor de description.\"\"\"\n",
    "        return self.__desc\n",
    "    \n",
    "    def hash(self) -> int:\n",
    "        \"\"\"Getter voor de hash.\"\"\"\n",
    "        return self.__hash\n",
    "    \n",
    "    def update(self, desc: Union[None, str] = None, hash: Union [None, int] = None) -> Rev:\n",
    "        \"\"\"Schrijf een functie die de description en hash update. Denk eraan dat we een functionele datastructuur willen,\n",
    "           en dat we dus een nieuwe instantie maken in plaats van de oude aan te passen! De nieuwe desc en hash kunnen\n",
    "           None zijn, in welk geval de oude gebruikt wordt.\"\"\"\n",
    "        return None #TODO\n",
    "    \n",
    "    def is_hash(self, hash: int) -> bool:\n",
    "        \"\"\"Predicaat: Is this the Revision we're looking for?\"\"\"\n",
    "        return self.__hash == hash\n",
    "\n",
    "class History:\n",
    "    \"\"\"Node in een Rose-tree van Rev's.\"\"\"\n",
    "    def __init__(self, revision: Rev, children: List[History] = [], thread: Union[None,History] = None) -> History:\n",
    "        \"\"\"Constructor\"\"\"\n",
    "        self.rev = revision\n",
    "        self.children = children\n",
    "        self.thread = thread\n",
    "        \n",
    "    def add_child(self, hist: History) -> History:\n",
    "        \"\"\"Schrijf een functie die een nieuwe subhistory toevoegt.\"\"\"\n",
    "        return None #TODO\n",
    "        \n",
    "    def remove_child(self, hash: int) -> History:\n",
    "        \"\"\"Schrijf een functie die een subhistory verwijdert. Op het moment van een descend(hash) wordt de huidige node\n",
    "           in de thread opgeslagen. De oude root moet de nieuwe niet langer als child beschouwen (zie afbeelding).\"\"\"\n",
    "        return History(self.rev, list(filter(lambda x: not x.is_hash(hash), self.children)), self.thread)\n",
    "    \n",
    "    def commit(self, rev: Rev) -> History:\n",
    "        \"\"\"Maak een History-object voor de nieuwe revision aan, hang deze onder de huidige root en descend.\"\"\"\n",
    "        return self.add_child(History(rev)).descend(rev.hash())\n",
    "    \n",
    "    def descend(self, hash: int) -> History:\n",
    "        \"\"\"Descend naar een child node met een gegeven hash.\"\"\"\n",
    "        def find_correct_child(children: List[History]) -> Union[None, History]:\n",
    "            \"\"\"Zoek recursief de children door naar een child met de juiste hash...\"\"\"\n",
    "            if len(children) > 0:\n",
    "                head, *tail = children\n",
    "                if head.is_hash(hash): # Als gevonden: child wordt de nieuwe node, oude node zonder child in de thread\n",
    "                    return head.add_to_thread(self.remove_child(hash))\n",
    "                else:\n",
    "                    return find_correct_child(tail) # Anders zoeken we verder\n",
    "            else: # De lijst is leeg, er is niets gevonden\n",
    "                return self # We veranderen niets\n",
    "        return find_correct_child(self.children)\n",
    "       \n",
    "\n",
    "    def ascend(self) -> History:\n",
    "        \"\"\"Schrijf een functie die ascend naar de bovenliggende node. Als er geen bovenliggende node in de thread is verandert\n",
    "           er niets.\"\"\"\n",
    "        return None #TODO\n",
    "\n",
    "    def update(self, action: Callable[[Rev],Rev]) -> History:\n",
    "        \"\"\"Schrijf een functie die een (lambda) van Rev naar Rev accepteert en een nieuwe History maakt waarbij de meegegeven\n",
    "           action op de Rev is toegepast.\"\"\"\n",
    "        return History(action(self.rev), self.children, self.thread)\n",
    "    \n",
    "    def remove_thread(self) -> History:\n",
    "        \"\"\"Verwijdert de thread voor bij een ascend.\"\"\"\n",
    "        return History(self.rev, self.children, None)\n",
    "    \n",
    "    def add_to_thread(self, parent: History) -> History:\n",
    "        \"\"\"Zet de oude parent in de thread.\"\"\"\n",
    "        return History(self.rev, self.children, parent)\n",
    "    \n",
    "    def root(self) -> History:\n",
    "        \"\"\"Schrijf een functie die recursief blijft ascenden tot er geen thread meer is (maw: zoek de initial commit.)\"\"\"\n",
    "        return None #TODO\n",
    "    \n",
    "    def head(self) -> Rev:\n",
    "        \"\"\"Getter voor de revisie van deze node, i.e. de huidige HEAD.\"\"\"\n",
    "        return self.rev\n",
    "    \n",
    "    def is_hash(self, hash: int) -> bool:\n",
    "        \"\"\"Predicaat: komt de hash van de huidige Rev overeen met de hash die we zoeken?\"\"\"\n",
    "        return self.rev.is_hash(hash)\n",
    "    \n",
    "h = History(Rev(\"Initial commit\",1))\n",
    "h2 = h.commit(Rev(\"Added README.md\",2))\n",
    "\n",
    "print(\"No children: \", h)\n",
    "print(\"After commit: \", h2)\n",
    "print(\"Reascended: \", h2.ascend())\n",
    "\n",
    "print(\"Invalid descend (no change): \", h.descend(3))\n",
    "print(\"Invalid ascend (no change): \", h.ascend())\n",
    "\n",
    "complex = History(Rev(\"Initial commit\",1)).commit(Rev(\"Added README.md\",2)).commit(Rev(\"Actual work\",4)).root() \\\n",
    "                                          .commit(Rev(\"Fork, as READMEs are for wimps!\",3))\n",
    "print(\"Complex: \", complex)\n",
    "print(\"Complex, ascend: \", complex.ascend())\n",
    "\n",
    "print(\"Updating revision desc of head: \", h2.update(lambda x: x.update(desc = \"Altered space and time!\")))\n",
    "\n",
    "\"\"\" Als alles goed is ingevuld zou het resultaat er zo uit moeten zien:\n",
    "\n",
    "No children:  <History: \"Initial commit\" with children [] and thread None>\n",
    "After commit:  <History: \"Added README.md\" with children [] and thread <History: \"Initial commit\" with children [] and thread None>>\n",
    "Reascended:  <History: \"Initial commit\" with children [<History: \"Added README.md\" with children [] and thread None>] and thread None>\n",
    "Invalid descend (no change):  <History: \"Initial commit\" with children [] and thread None>\n",
    "Invalid ascend (no change):  <History: \"Initial commit\" with children [] and thread None>\n",
    "Complex:  <History: \"Fork, as READMEs are for wimps!\" with children [] and thread <History: \"Initial commit\" with children [<History: \"Added README.md\" with children [<History: \"Actual work\" with children [] and thread None>] and thread None>] and thread None>>\n",
    "Complex, ascend:  <History: \"Initial commit\" with children [<History: \"Added README.md\" with children [<History: \"Actual work\" with children [] and thread None>] and thread None>, <History: \"Fork, as READMEs are for wimps!\" with children [] and thread None>] and thread None>\n",
    "Updating revision desc of head:  <History: \"Altered space and time!\" with children [] and thread <History: \"Initial commit\" with children [] and thread None>>\n",
    "\"\"\"; None"
   ]
  },
  {
   "cell_type": "markdown",
   "metadata": {},
   "source": [
    "***\n",
    "## College 6\n",
    "De opdracht hieronder dient gemaakt te worden na afloop van college 6. Deze week is er slechts één opdracht en deze hoeft niet in het portfolio. De opdracht dient als een introductie van concepten die jullie kunnen gebruiken bij de eindopdracht van dit vak.\n",
    "\n",
    "### 6.1 — Functional Reactive Programming en Comprehensions\n",
    "In deze opdracht gaan we aan de slag met FRP: manipulatie van (potentieel eindeloze) streams data, waarbij resultaten constant berekend worden telkens als er nieuwe invoer beschikbaar is. In Python gebruiken we hiervoor generators, die technisch gezien niet functioneel zijn (maar in plaats daarvan een interne state gebruiken).\n",
    "\n",
    "Een eigenschap van generators is dat we deze als (oneindige) lijsten kunnen gebruiken. Om tijdens development infinite loops te voorkomen is de lengte van streams echter beperkt. Generators in Python zijn stateful, wat betekent dat we ieder element dat we uit de generator halen \"verbruikt\" hebben. Bij meerdere analyses kan het dus zijn dat je data opraakt. Om dit te voorkomen kun je `tee()` uit `itertools` gebruiken.\n",
    "\n",
    "We maken voor het beschrijven van generators gebruik van *lijst comprehensies*, of in dit geval generator comprehensies vanwege de potentiële eindeloosheid van de streams. Het verschil is dat de generator *lazy* is, en enkel waardes uitrekent wanneer deze gevraagd worden. Lijsten in Python zijn *eager*, wat betekent dat deze meteen worden uitgerekend. Omdat onze streams eindeloos moeten kunnen zijn is dit geen optie. In notatie is het enige verschil dat lijstcomprehensies de vierkante haken gebruiken `[f(a) for a in stream() if p(a)]`.\n",
    "\n",
    "Beide vormen worden gebruikt om collecties te maken op basis van invoer lijsten / streams, functies en predicaten (functies naar `bool`, e.g. `isEven(i: int) -> bool`). In het voorbeeld hierboven wordt ieder element uit `stream()` een voor een aan `a` gebonden, en als `p(a)` gelijk is aan `True` wordt `f(a)` aan de uitvoer toegevoegd. `p(a)` kan gezien worden als een filter, en `f(a)` als een functie die over de lijst gemapt wordt.    "
   ]
  },
  {
   "cell_type": "markdown",
   "metadata": {},
   "source": [
    "#### Opdracht 6.1.1 — Pathfinder\n",
    "Breid de code hieronder uit met nog 3 analyses:\n",
    "* bereken de variance op de temperatuur\n",
    "* bereken de gemiddelde hoogte over een periode\n",
    "* verzin zelf nog een interessante analyse (je mag meetwaardes aan de data_stream generator toevoegen)"
   ]
  },
  {
   "cell_type": "code",
   "execution_count": null,
   "metadata": {},
   "outputs": [],
   "source": [
    "from random import random\n",
    "from collections import namedtuple\n",
    "from statistics import mean\n",
    "import math\n",
    "\n",
    "Measurement = namedtuple('Measurement', 't lon lat h temp')\n",
    "\n",
    "def data_stream() -> Generator[Measurement, None, None]:\n",
    "    \"\"\"Deze generator stelt de data van onze pathfinder voor. Iedere 24 uur stuurt de robot een update met de huidige locatie, \n",
    "       hoogte in meters boven NMP en de gemeten temperatuur in Kelvin. Daarnaast krijgt onze pathfinder per dag een 5% kans om \n",
    "       te stoppen met communiceren en leeft deze maximaal 1000 dagen. Op deze manier werken we niet met echt eindeloze lijsten:\n",
    "       hoewel dit in principe moet kunnen kan een klein foutje tot eindeloze loops en kernel crashes leiden. Zodra je ervan\n",
    "       overtuigd bent dat je code hiermee om kan gaan kun je de if-conditie in de loop weghalen en zien wat er gebeurt.\n",
    "       \"\"\"\n",
    "    t = 0\n",
    "    lon = 19.13\n",
    "    lat = 33.22\n",
    "    alive = True\n",
    "    while alive:\n",
    "        lon += 0.5 * random() - 0.25\n",
    "        lat += 0.5 * random() - 0.25\n",
    "        t += 1\n",
    "        height = 100 * math.sin(lon) * abs(math.cos(lat)) ** 0.5\n",
    "        temp = 230 + 50 * random()\n",
    "        #if random() > 0.95 or t > 1000: # Comment these lines for endless fun!\n",
    "        #    alive = False               # Uncomment them for a sandbox. \n",
    "        yield Measurement(t, lon, lat, height, temp)\n",
    "        \n",
    "def below_NMP(m: Measurement) -> bool:\n",
    "    return m.h < 0\n",
    "\n",
    "def temperature_in_celsius(m: Measurement) -> float:\n",
    "    return m.temp - 273.15\n",
    "\n",
    "def safe_mean(xs: Generator[float, None, None]) -> Union[None, float]:\n",
    "    \"\"\"mean(xs) is geen totale functie en kan errors geven. Beter checken we de lengte van de invoer, maar helaas heeft een\n",
    "       generator geen lengte.\"\"\"\n",
    "    try:\n",
    "        return mean(xs)\n",
    "    except StatisticsError:\n",
    "        return None\n",
    "\n",
    "def analyse():\n",
    "    \"\"\"Hier worden de temperature_in_celsius transformatie en het below_NMP predicaat gebruikt om een stream te genereren van\n",
    "       celsius-temperaturen van alle datapunten onder \"zeeniveau\". Hier kunnen we een deel van pakken om een gemiddelde te\n",
    "       berekenen (merk op dat het niet mogelijk is een gemiddelde van een oneindige stream te nemen).\"\"\"\n",
    "    temps_below_NMP = (temperature_in_celsius(point) for point in data_stream() if below_NMP(point))\n",
    "    print(\"Mean temperature below NMP (first 100 measurements): \", safe_mean(itertools.islice(temps_below_NMP, 100)))\n",
    "    print(\"Mean temperature below NMP (second 100 measurements): \", safe_mean(itertools.islice(temps_below_NMP, 100)))\n",
    "    print(\"Mean temperature below NMP (third 100 measurements: \", safe_mean(itertools.islice(temps_below_NMP, 100)))\n",
    "    \n",
    "\n",
    "analyse()"
   ]
  }
 ],
 "metadata": {
  "kernelspec": {
   "display_name": "Python 3",
   "language": "python",
   "name": "python3"
  },
  "language_info": {
   "codemirror_mode": {
    "name": "ipython",
    "version": 3
   },
   "file_extension": ".py",
   "mimetype": "text/x-python",
   "name": "python",
   "nbconvert_exporter": "python",
   "pygments_lexer": "ipython3",
   "version": "3.7.2"
  }
 },
 "nbformat": 4,
 "nbformat_minor": 1
}
