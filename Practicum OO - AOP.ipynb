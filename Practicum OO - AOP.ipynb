{
 "cells": [
  {
   "cell_type": "markdown",
   "metadata": {},
   "source": [
    "# Practicum OO - AOP\n",
    "Dit bestand bevat de practicumopgaven voor de module OO&AOP van het vak Advanced Technical Programming (TCIT-VKATP-17). \n",
    "\n",
    "Een Jupyter Notebook bestaat uit cells met code of toelichting. Sommige code-cells hoeven enkel uitgevoerd te worden om functies beschikbaar te maken, anderen moet je zelf in vullen (opdrachten staan duidelijk met kopjes gemarkeerd, je moet dan zelf de delen met TODO invullen). Je kunt de code per cel uitvoeren door de cel te selecteren en \"run cell\" te kiezen. De cel direct hieronder laadt de nodige modules in. Als je code niet naar verwachting werkt kan het zijn dat je deze cell moet runnen, of een van de andere cels vóór de cel met error. Let erop dat als je de Jupyter-server afsluit en later verder gaat moet je deze cells opnieuw runnen."
   ]
  },
  {
   "cell_type": "code",
   "execution_count": 10,
   "metadata": {},
   "outputs": [],
   "source": [
    "from unittest import *    \n",
    "import doctest\n",
    "import io\n",
    "import inspect\n",
    "from contextlib import redirect_stdout"
   ]
  },
  {
   "cell_type": "markdown",
   "metadata": {},
   "source": [
    "__Opdrachten die zijn gemarkeerd met _[PORTFOLIO]_ dienen te worden opgenomen in je portfolio voor de eindopgave__.\n",
    "\n",
    "Laat deze opdrachten door je docent aftekenen aan het einde van de les (of aan het begin van de volgende les)."
   ]
  },
  {
   "cell_type": "markdown",
   "metadata": {},
   "source": [
    "***\n",
    "## College 2: Reflectie en metaprogrammeren\n",
    "Deze opdrachten gaan over het college over reflectie en metaprogrammeren en dienen aan het einde van dat college te worden gemaakt.\n",
    "\n",
    "Maak ook de opdrachten in de reader!\n",
    "\n",
    "\n",
    "#### Opdracht 2.1 — OO in Python [Portfolio]\n",
    "Een Queue is gebaseerd op het FIFO-principe: First In First Out\n",
    "\n",
    "<img src=\"queue.png\" width=\"500px\">\n",
    "\n",
    "`enqueue` voegt een element achteraan toe.  \n",
    "`dequeue` haalt een element vooraan weg.\n",
    "\n",
    "De volgende klasse implementeert Queue:"
   ]
  },
  {
   "cell_type": "code",
   "execution_count": 8,
   "metadata": {},
   "outputs": [],
   "source": [
    "class MyQueue(list):\n",
    "    def __init__(self, a=[]):\n",
    "        list.__init__(self, a)\n",
    "    \n",
    "    def dequeue(self):\n",
    "        return self.pop(0) # geen fout-afhandeling\n",
    "    \n",
    "    def enqueue(self, x):\n",
    "        self.append(x)"
   ]
  },
  {
   "cell_type": "markdown",
   "metadata": {},
   "source": [
    "Python heeft een aantal ingebouwde queue-klassen: Queue, LifeQueue, PriorityQueue, en deque.\n",
    "\n",
    "`deque` staat voor double-ended queue: aan beide kanten van de queue kan worden toegevoegd en verwijderd.\n",
    "\n",
    "Breidt de klasse `MyQueue` uit tot de klasse `MyDeQue`.\n",
    "\n",
    "De klasse heeft de volgende methoden:\n",
    "* `appendright(x)`: voeg `x` aan de rechterkant toe\n",
    "* `appendleft(x)`: voeg `x` aan de linkerkant toe\n",
    "* `popright()`: verwijder en retourneer het element dat helemaal rechts staat\n",
    "* `popleft()`: verwijder en retourneer het element dat helemaal links staat\n",
    "* `reverse()`: keer de elementen in de queue om\n",
    "* `rotateright(n)`: verschuif de elementen `n` posities naar rechts.\n",
    "  Als `n < 0`: verschuif de elementen (`-n`)  posities naar links.\n",
    "* `rotateleft(n)`: verschuif de elementen `n` posities naar links.\n",
    "  Als `n < 0`: verschuif de elementen (`-n`) posities naar rechts.\n",
    "  \n",
    "Maak zoveel mogelijk gebruik van de andere methoden en methoden uit de super-klassen. Zorg voor een goede fout-afhandeling.\n",
    "\n",
    "Denk er ook aan dat je voldoende tests schrijft om de functionaliteit zoals hierboven gegeven kan garanderen!"
   ]
  },
  {
   "cell_type": "markdown",
   "metadata": {},
   "source": [
    "#### Opdracht 2.2 — `eval` en veiligheid [Portfolio]\n",
    "\n",
    "Raadpleeg de site https://www.programiz.com/python-programming/methods/built-in/eval\n",
    "\n",
    "Een eenvoudige interactieve expressie-evaluator is de volgende:"
   ]
  },
  {
   "cell_type": "code",
   "execution_count": null,
   "metadata": {},
   "outputs": [
    {
     "name": "stdout",
     "output_type": "stream",
     "text": [
      "Type an expression: 4+4\n",
      "Result: 8\n"
     ]
    }
   ],
   "source": [
    "while True:\n",
    "    r = input(\"Type an expression: \")\n",
    "    print(\"Result:\", eval(r))"
   ]
  },
  {
   "cell_type": "code",
   "execution_count": 11,
   "metadata": {},
   "outputs": [
    {
     "name": "stderr",
     "output_type": "stream",
     "text": [
      "......\n",
      "----------------------------------------------------------------------\n",
      "Ran 6 tests in 0.005s\n",
      "\n",
      "OK\n"
     ]
    },
    {
     "data": {
      "text/plain": [
       "<unittest.runner.TextTestResult run=6 errors=0 failures=0>"
      ]
     },
     "execution_count": 11,
     "metadata": {},
     "output_type": "execute_result"
    }
   ],
   "source": [
    "class MyDeQue(MyQueue):\n",
    "    def __init__(self, a=[]):\n",
    "        MyQueue.__init__(self, a)\n",
    "\n",
    "    def appendright(self, x):\n",
    "        self.enqueue(x)\n",
    "\n",
    "    def appendleft(self, x):\n",
    "        self.insert(0, x)\n",
    "\n",
    "    def popright(self):\n",
    "        if len(self):\n",
    "            return self.pop(len(self) - 1)\n",
    "\n",
    "    def popleft(self):\n",
    "        return self.dequeue()\n",
    "\n",
    "    def reverse(self):\n",
    "        super().reverse()\n",
    "\n",
    "    def rotateright(self, n):\n",
    "        for _i in range(n):\n",
    "            self.appendleft(self.popright())\n",
    "\n",
    "    def rotateleft(self, n):\n",
    "        for _i in range(n):\n",
    "            self.appendright(self.popleft())\n",
    "\n",
    "\n",
    "class MyDeQueTest(TestCase):\n",
    "    def setUp(self):\n",
    "        self.testList = [4, 2, 3, 6, 8, 9]\n",
    "        self.deque = MyDeQue(self.testList)\n",
    "\n",
    "    def testPopLeft(self):\n",
    "        self.assertEqual(4, self.deque.popleft())\n",
    "\n",
    "    def testPopRight(self):\n",
    "        self.assertEqual(9, self.deque.popright())\n",
    "\n",
    "    def testAppendRight(self):\n",
    "        self.deque.appendright(0)\n",
    "        self.assertEqual([4, 2, 3, 6, 8, 9, 0], self.deque)\n",
    "\n",
    "    def testAppendLeft(self):\n",
    "        self.deque.appendleft(0)\n",
    "        self.assertEqual([0, 4, 2, 3, 6, 8, 9], self.deque)\n",
    "\n",
    "    def testRotateRight(self):\n",
    "        self.deque.rotateright(2)\n",
    "        self.assertEqual([8, 9, 4, 2, 3, 6], self.deque)\n",
    "\n",
    "    def testRotateLeft(self):\n",
    "        self.deque.rotateleft(2)\n",
    "        self.assertEqual([3, 6, 8, 9, 4, 2], self.deque)\n",
    "        \n",
    "test = MyDeQueTest()\n",
    "suite = TestLoader().loadTestsFromModule(test)\n",
    "TextTestRunner().run(suite)"
   ]
  },
  {
   "cell_type": "markdown",
   "metadata": {},
   "source": [
    "Een dergelijke evaluator is onveilig. Als de gebruiker in een Linux-omgeving de expressie `os.system('rm -rf *')` intikt, kan er veel schade worden aangericht. Je kunt dit voorkomen door bij de eval-functie een dictionary mee te geven.\n",
    "\n",
    "Schrijf de klasse SimpleSecureEvaluator. De klasse bevat een dictionary-attribuut `d` en een methode `eval`.\n",
    "\n",
    "De klasse wordt gebruikt bij interactieve sessies, waarbij de gebruiker het volgende kan invoeren:\n",
    "* een toekenningsopdracht. De opdracht van de vorm `<variabele> = <expressie>` wordt opgeslagen in dictionary-attribuut `d`. Hierbij wordt <variabele> als key-waarde opgeslagen. De expressie wordt eerst geëvalueerd en het resultaat wordt als value-waarde bij de key-waarde opgeslagen. Ook opdrachten van de vorm `i = i +1` zijn toegestaan, maar alleen variabelen van voorafgaande toekenningsopdrachten mogen in de expressie voorkomen.\n",
    "* een expressie. Alleen variabelen van voorafgaande toekenningsopdrachten mogen in de expressie voorkomen. Bij de evaluatie van de expressie wordt gebruik gemaakt van `d`. Het resultaat wordt aan de gebruiker getoond.\n",
    "* de opdracht `mydir`. De dictionary `d` wordt dan getoond."
   ]
  },
  {
   "cell_type": "code",
   "execution_count": 13,
   "metadata": {},
   "outputs": [
    {
     "name": "stdout",
     "output_type": "stream",
     "text": [
      "cv: 7\n"
     ]
    }
   ],
   "source": [
    "import re\n",
    "\n",
    "class SimpleSecureEvaluator(object):\n",
    "    def __init__(self, d={}):\n",
    "        self.d = d\n",
    "\n",
    "    def eval(self, expression):\n",
    "        if expression.strip() == \"mydir\":\n",
    "            [print(\"{}: {}\".format(k, v)) for (k, v) in self.d.items()]\n",
    "            return\n",
    "\n",
    "        if expression.find('=') > -1:\n",
    "            var, innerExpr = expression.split('=', 1)\n",
    "            var = var.strip()\n",
    "\n",
    "            if not var.isalpha():\n",
    "                raise ValueError(\n",
    "                    \"A variable name should only exists out of alpha characters: {}\".format(var))\n",
    "            self.d[var] = self.eval(innerExpr)\n",
    "            return\n",
    "\n",
    "        expressionList = re.sub(\n",
    "            '(\\(|\\)|[+\\\\-*\\^\\/=])', ' \\\\1 ', expression).split()\n",
    "\n",
    "        for item in expressionList:\n",
    "            if item.isalpha():\n",
    "                if item in self.d.keys():\n",
    "                    expression = expression.replace(item, str(self.d[item]))\n",
    "                else:\n",
    "                    raise ValueError(\n",
    "                        \"Invalid expression! {} not defined!\".format(item))\n",
    "\n",
    "        return eval(expression)\n",
    "\n",
    "\n",
    "evaluator = SimpleSecureEvaluator()\n",
    "\n",
    "evaluator.eval(\"cv = 1 + 1\")\n",
    "evaluator.eval(\"cv = cv + 2 + 3\")\n",
    "#evaluator.eval(\"print('Hello World!')\")\n",
    "evaluator.eval(\"mydir\")\n"
   ]
  },
  {
   "cell_type": "markdown",
   "metadata": {},
   "source": [
    "#### Opdracht 2.3.1 — Introspectie van functies\n",
    "Schrijf een programma dat van een gegeven pyc-file (`function_demo.pyc`) nagaat welke functies de file bevat. Bepaal bij iedere functie de signature en de documentatie. Test de functies.\n",
    "\n",
    "Ga als volgt te werk:\n",
    "* Pas de opdracht `dir(<modulename>)` toe. Het resultaat is een lijst van element-namen van de file. De lijst bevat strings.\n",
    "* Bepaal van ieder element het type. Gebruik hierbij de eval-functie.\n",
    "* Maak gebruik van het volgende: voor een functie `f` geldt: `type(f).__name__ = 'function'`.\n",
    "* Gebruikt de functies `signature` en `getdoc` van de module `inspect`."
   ]
  },
  {
   "cell_type": "code",
   "execution_count": null,
   "metadata": {},
   "outputs": [],
   "source": [
    "# import function_demo_3_5 # Select correct import for your interpreter version\n",
    "# import function_demo_3_6\n",
    "\n",
    "# TODO: zie hierboven"
   ]
  },
  {
   "cell_type": "markdown",
   "metadata": {},
   "source": [
    "#### Opdracht 2.3.2 — Introspectie van klassen\n",
    "Schrijf een programma dat van de gegeven pyc-file (`class_demo.pyc`) nagaat welke klassen de file bevat.\n",
    "\n",
    "Ga te werk zoals bij opdracht 2.3.1.\n",
    "\n",
    "Bedenk daarbij het volgende:\n",
    "* Voor een klasse `C` geldt: `type(c).__name__ == 'type'`\n",
    "* Voor een methode `m` geldt: `type(m).__name__ == 'function'`"
   ]
  },
  {
   "cell_type": "code",
   "execution_count": null,
   "metadata": {},
   "outputs": [],
   "source": [
    "# import class_demo_3_5\n",
    "# import class_demo_3_6\n",
    "\n",
    "# TODO: zie hierboven"
   ]
  },
  {
   "cell_type": "markdown",
   "metadata": {},
   "source": [
    "#### Opdracht 2.4 — Decorators [ Portfolio]\n",
    "Een decorator is een functie die andere functies aanpast om zodanig (aspect-oriented) functionaliteit toe te voegen. Denk bijvoorbeeld aan de optie op een timing toe te  voegen (hoe lang duurt het uitvoeren van een bepaalde functie-aanroep), of security aspecten (alleen als het juiste pincode/password wordt ingevoerd na aanroep zal de functie ook echt worden uitgevoerd).\n",
    "\n",
    "Het basispatroon van een decorator is het volgende:"
   ]
  },
  {
   "cell_type": "markdown",
   "metadata": {},
   "source": [
    "Herschrijf de decorator hierboven zodat hij naar het scherm schrijft welke functie (naam) uit welke module (naam) er gedraait is. Je kan deze decorator vervolgens toepassen bij de volgende opdracht, als je kan achterhalen hoe je hem toevoegd aan __alle__ functies van __alle__ modules van de simulator."
   ]
  },
  {
   "cell_type": "code",
   "execution_count": 14,
   "metadata": {},
   "outputs": [
    {
     "name": "stdout",
     "output_type": "stream",
     "text": [
      "Name successor\n",
      "Module: __main__\n",
      "4\n",
      "--------------------\n",
      "2.0\n",
      "--------------------\n",
      "Name sqrt\n",
      "Module: math\n",
      "2.0\n"
     ]
    }
   ],
   "source": [
    "from functools import wraps\n",
    "\n",
    "def myDecorator(f):\n",
    "    # Definieer een binnenste functie, die je om de 'oude' functie heen 'wrapt'\n",
    "    @wraps(f) #Gebruik van wraps niet noodzakelijk (zie reader), maar wel netter\n",
    "    def inner(*args, **kwargs): \n",
    "        # gebruik van list arguments en dict keyword arguments omdat we niet weten wat voor functie we gaan krijgen.\n",
    "        print(\"Name {}\".format(f.__name__))\n",
    "        print(\"Module: {}\".format(f.__module__))\n",
    "        result = f(*args, **kwargs)\n",
    "        # mogelijk nog meer nuttige aanroepen hier...\n",
    "        return result\n",
    "    return inner\n",
    "\n",
    "# Toepassen d.m.v. '@' alleen mogelijk bij definitie van de functie!\n",
    "@myDecorator\n",
    "def successor(x):\n",
    "    return x+1\n",
    "\n",
    "print(successor(3))\n",
    "print('-'*20)\n",
    "\n",
    "# Maar het kan ook door 'overschrijven' van eerder gedefinieerde functie (= hernoemen van de functie-pointer)\n",
    "from math import sqrt\n",
    "print(sqrt(4)) # nog niets verandert\n",
    "\n",
    "print('-'*20)\n",
    "\n",
    "sqrt = myDecorator(sqrt)\n",
    "print(sqrt(4)) # nu wel!\n"
   ]
  },
  {
   "cell_type": "markdown",
   "metadata": {},
   "source": [
    "#### Eindopdracht\n",
    "Gebruik de beschrijving van de simulator in hoofdstuk 6.1 van de reader en introspectie om:\n",
    "* Het functioneren van de simulator te achterhalen;\n",
    "* Tests te kunnen draaien om de correctheid van de simulator te achterhalen (functioneert de simulator vergelijkbaar met de fysieke opstelling?);\n",
    "* De controller unit van de simulator te vervangen door een eigen geschreven variant.\n",
    "\n",
    "De Python-byte code van de simulator is toegevoegd in de folder `simulator-3.5` (voor Python 3.5) en `simulator-3.6` (voor Python 3.6). Gebruik `main.py` om de simulator te starten.   \n",
    "De GUI vereist de installatie van PyGame; gebruik `pip3 install pygame` in een prompt om de pygame-module te installeren (draai als Admin op Windows)."
   ]
  },
  {
   "cell_type": "code",
   "execution_count": null,
   "metadata": {
    "collapsed": true
   },
   "outputs": [],
   "source": []
  }
 ],
 "metadata": {
  "kernelspec": {
   "display_name": "Python 3",
   "language": "python",
   "name": "python3"
  },
  "language_info": {
   "codemirror_mode": {
    "name": "ipython",
    "version": 3
   },
   "file_extension": ".py",
   "mimetype": "text/x-python",
   "name": "python",
   "nbconvert_exporter": "python",
   "pygments_lexer": "ipython3",
   "version": "3.7.2"
  }
 },
 "nbformat": 4,
 "nbformat_minor": 2
}
